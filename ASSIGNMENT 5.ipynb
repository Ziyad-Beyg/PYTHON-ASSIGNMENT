{
 "cells": [
  {
   "cell_type": "code",
   "execution_count": 14,
   "metadata": {},
   "outputs": [
    {
     "name": "stdout",
     "output_type": "stream",
     "text": [
      "Enter any positive num 7\n",
      "The factorial of 7 is 5040\n"
     ]
    }
   ],
   "source": [
    "num = int(input(\"Enter any positive num \"))\n",
    "factorial = 1\n",
    "if num < 0:\n",
    "    print(\"Sorry factorial does not exist for negative numbers\")\n",
    "elif num == 0:\n",
    "    print(\"The factorial of 0 is 1\")\n",
    "else:\n",
    "    for i in range(1,num + 1):\n",
    "        factorial = factorial*i\n",
    "    print(\"The factorial of\",num,\"is\",factorial)"
   ]
  },
  {
   "cell_type": "code",
   "execution_count": 15,
   "metadata": {},
   "outputs": [
    {
     "name": "stdout",
     "output_type": "stream",
     "text": [
      "Enter String: MY Name Is ZIYAD\n",
      "The number of lowercase characters is:\n",
      "4\n",
      "The number of uppercase characters is:\n",
      "9\n"
     ]
    }
   ],
   "source": [
    "string =  input(\"Enter String: \")\n",
    "count1 = 0\n",
    "count2 = 0\n",
    "for i in string:\n",
    "        if(i.islower()):\n",
    "                count1=count1+1\n",
    "        elif(i.isupper()):\n",
    "            count2=count2+1\n",
    "print(\"The number of lowercase characters is:\")\n",
    "print(count1)\n",
    "print(\"The number of uppercase characters is:\")\n",
    "print(count2)"
   ]
  },
  {
   "cell_type": "code",
   "execution_count": 13,
   "metadata": {},
   "outputs": [
    {
     "name": "stdout",
     "output_type": "stream",
     "text": [
      "Enter the list size : 5\n",
      "Enter number at location 0 :\n",
      "4\n",
      "Enter number at location 1 :\n",
      "6\n",
      "Enter number at location 2 :\n",
      "2\n",
      "Enter number at location 3 :\n",
      "1\n",
      "Enter number at location 4 :\n",
      "3\n",
      "User List is  [4, 6, 2, 1, 3]\n",
      "EVEN NUMBERS INCLUDE: \n",
      "4 6 2 "
     ]
    }
   ],
   "source": [
    "numberList = []\n",
    "n = int(input(\"Enter the list size : \"))\n",
    "for i in range(0, n):\n",
    "    print(\"Enter number at location\", i, \":\")\n",
    "    item = int(input())\n",
    "    numberList.append(item)\n",
    "print(\"User List is \", numberList)\n",
    "print(\"EVEN NUMBERS INCLUDE: \")\n",
    "for j in numberList:\n",
    "    if j % 2 == 0:\n",
    "        print(j, end=\" \")"
   ]
  },
  {
   "cell_type": "code",
   "execution_count": 16,
   "metadata": {},
   "outputs": [
    {
     "name": "stdout",
     "output_type": "stream",
     "text": [
      "ENTER A STRING noon\n",
      "THIS STRING IS PALINDROME\n"
     ]
    }
   ],
   "source": [
    "a = input(\"ENTER A STRING \")\n",
    "b = a [::-1]\n",
    "\n",
    "if a == b :\n",
    "    print(\"THIS STRING IS PALINDROME\")\n",
    "else :\n",
    "    print(\"THIS STRING IS NOT PALINDROME\")\n"
   ]
  },
  {
   "cell_type": "code",
   "execution_count": 23,
   "metadata": {},
   "outputs": [
    {
     "name": "stdout",
     "output_type": "stream",
     "text": [
      "Enter A Number:7\n",
      "7 is a prime number\n"
     ]
    }
   ],
   "source": [
    "num = int(input(\"Enter A Number:\"))\n",
    "if num > 1:\n",
    "    for i in range(2, num//2):\n",
    "        if (num % i) == 0:\n",
    "            print(num, \"is not a prime number\")\n",
    "            break\n",
    "        else:\n",
    "            print(num, \"is a prime number\")\n",
    "            break"
   ]
  },
  {
   "cell_type": "code",
   "execution_count": 3,
   "metadata": {},
   "outputs": [
    {
     "name": "stdout",
     "output_type": "stream",
     "text": [
      "Items:\n",
      "\n",
      "\tPizza\n",
      "\tTV\n",
      "\tRemote\n",
      "\tScrew Driver\n"
     ]
    }
   ],
   "source": [
    "def shopping(*items):\n",
    "    print(\"Items:\\n\")\n",
    "    for item in items:\n",
    "        print(f\"\\t{item}\")\n",
    "\n",
    "shopping(\"Pizza\",\"TV\",\"Remote\",\"Screw Driver\")"
   ]
  },
  {
   "cell_type": "code",
   "execution_count": null,
   "metadata": {},
   "outputs": [],
   "source": []
  }
 ],
 "metadata": {
  "kernelspec": {
   "display_name": "Python 3",
   "language": "python",
   "name": "python3"
  },
  "language_info": {
   "codemirror_mode": {
    "name": "ipython",
    "version": 3
   },
   "file_extension": ".py",
   "mimetype": "text/x-python",
   "name": "python",
   "nbconvert_exporter": "python",
   "pygments_lexer": "ipython3",
   "version": "3.7.4"
  }
 },
 "nbformat": 4,
 "nbformat_minor": 2
}
